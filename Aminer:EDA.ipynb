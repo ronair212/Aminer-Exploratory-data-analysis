{
 "cells": [
  {
   "cell_type": "markdown",
   "id": "ce31b7ed",
   "metadata": {},
   "source": [
    "# Computing distinct authors, publication venues, publications, and citations/references"
   ]
  },
  {
   "cell_type": "code",
   "execution_count": 3,
   "id": "2bb21866",
   "metadata": {},
   "outputs": [
    {
     "name": "stdout",
     "output_type": "stream",
     "text": [
      "['Integration, the VLSI Journal\\n', 'International Journal of Parallel Programming\\n', 'The computer comes of age\\n', 'Information Sciences: an International Journal\\n', 'Journal of the ACM (JACM)\\n', 'Computability with Pascal\\n', 'Information and Control\\n', 'Computing\\n', 'Software engineering with MODULA-2 and ADA\\n', 'Computers and Artificial Intelligence\\n']\n",
      "[989, 668, 1, 5680, 3016, 1, 147, 1392, 1, 242]\n"
     ]
    }
   ],
   "source": [
    "publications_dict = dict();\n",
    "\n",
    "\n",
    "with open(\"/Users/rohitnair/Downloads/acm.txt\",'r', newline='', encoding=\"utf8\") as acm:\n",
    "    for row in acm:\n",
    "        if row.startswith(\"#c\"):\n",
    "            ven = row[2:]\n",
    "            if publications_dict.get((ven)) == None:\n",
    "                publications_dict[ven] = 1\n",
    "            else:\n",
    "                publications_dict[ven] += 1\n",
    "\n",
    "venue_list = list(publications_dict.keys())\n",
    "venue_count = list(publications_dict.values())\n",
    "\n",
    "print(venue_list[:10])\n",
    "print(venue_count[:10])\n"
   ]
  },
  {
   "cell_type": "code",
   "execution_count": 5,
   "id": "b815945e",
   "metadata": {},
   "outputs": [
    {
     "name": "stdout",
     "output_type": "stream",
     "text": [
      "Total references 1040327\n",
      "Total cites 1007495\n",
      "max references =  2015217\n",
      "max citations =  2135000\n"
     ]
    }
   ],
   "source": [
    "refer_dict = {}\n",
    "citattion_dict  = {}\n",
    "with open(\"/Users/rohitnair/Downloads/acm.txt\", 'r', newline='', encoding=\"utf8\") as apfile:\n",
    "    index = 0\n",
    "    venue = \"\"\n",
    "    for row in apfile:\n",
    "        if row.startswith(\"#index\"):\n",
    "            index = int((row[6:]))\n",
    "        elif row.startswith(\"#%\"):\n",
    "            if refer_dict.get(index) == None:\n",
    "                refer_dict[index] = 1\n",
    "            else:\n",
    "                refer_dict[index] += 1\n",
    "\n",
    "            if citattion_dict.get(int(row[2:])) == None:\n",
    "                citattion_dict[int(row[2:])] = 1\n",
    "            else:\n",
    "                citattion_dict[int(row[2:])] += 1\n",
    "\n",
    "                \n",
    "                \n",
    "                \n",
    "print(\"Total references\", len(refer_dict))\n",
    "print(\"Total cites\", len(citattion_dict))\n",
    "\n",
    "\n",
    "\n",
    "v = list(refer_dict.values())\n",
    "p = list(refer_dict.keys())\n",
    "maxi = p[v.index(max(v))]\n",
    "v2 = list(citattion_dict.values())\n",
    "p2 = list(citattion_dict.keys())\n",
    "maxi2 = p2[v2.index(max(v2))]\n",
    "print(\"max references = \" , p[v.index(max(v))])\n",
    "print(\"max citations = \" , p2[v2.index(max(v2))])\n",
    "\n"
   ]
  },
  {
   "cell_type": "code",
   "execution_count": 7,
   "id": "05761cc7",
   "metadata": {},
   "outputs": [
    {
     "name": "stdout",
     "output_type": "stream",
     "text": [
      "max reference =  ACM SIGOPS 24th Symposium on Operating Systems Principles\n",
      "\n",
      "max citations =  INFORMS Journal on Computing\n",
      "\n"
     ]
    }
   ],
   "source": [
    "\n",
    "\n",
    "with open(\"/Users/rohitnair/Downloads/acm.txt\", 'r', newline='', encoding=\"utf8\") as apfile:\n",
    "    for row in apfile:\n",
    "        if row.startswith('#c'):\n",
    "            string_temp = row[2:]\n",
    "        if row.startswith('#index'):\n",
    "            ind = row[6:]\n",
    "            if int(ind) == int(maxi):\n",
    "                print(\"max reference = \" ,string_temp )\n",
    "            if int(ind) == int(maxi2):\n",
    "                print(\"max citations = \" ,string_temp )\n",
    "\n",
    "\n",
    "                \n",
    "                "
   ]
  },
  {
   "cell_type": "code",
   "execution_count": 9,
   "id": "adce46e8",
   "metadata": {},
   "outputs": [
    {
     "data": {
      "image/png": "[encoded data removed]",
      "text/plain": [
       "<Figure size 432x288 with 1 Axes>"
      ]
     },
     "metadata": {
      "needs_background": "light"
     },
     "output_type": "display_data"
    },
    {
     "data": {
      "image/png": "[encoded data removed]",
      "text/plain": [
       "<Figure size 432x288 with 1 Axes>"
      ]
     },
     "metadata": {
      "needs_background": "light"
     },
     "output_type": "display_data"
    }
   ],
   "source": [
    "\n",
    "import matplotlib.pyplot as plt\n",
    "\n",
    "plt.title('Histogram of References')\n",
    "plt.grid(True)\n",
    "\n",
    "plt.hist(list(refer_dict.values()),bins=25, log=True)\n",
    "plt.show()\n",
    "\n",
    "\n",
    "plt.title('Histogram of Citations')\n",
    "plt.grid(True)\n",
    "\n",
    "plt.hist(list(citattion_dict.values()),bins=25,log=True)\n",
    "plt.show()\n",
    "\n"
   ]
  },
  {
   "cell_type": "code",
   "execution_count": 12,
   "id": "ea3a05df",
   "metadata": {},
   "outputs": [],
   "source": [
    "\n",
    "impact = {}\n",
    "venue1 = {}\n",
    "no_of_publ = {}\n",
    "with open(\"/Users/rohitnair/Downloads/acm.txt\", 'r', newline='', encoding=\"utf8\") as apfile:\n",
    "    for row in apfile:\n",
    "        if row.startswith('#c'):\n",
    "            venue_name = row[2:]\n",
    "        if row.startswith('#index'):\n",
    "            index_name = row[6:]\n",
    "            if venue1.get(venue_name) == None:\n",
    "                if citattion_dict.get(int(index_name)) == None:\n",
    "                    #venue1[venue_name] = 0\n",
    "                    continue\n",
    "                else:\n",
    "                    venue1[venue_name] = citattion_dict[int(index_name)]\n",
    "            else:\n",
    "                if citattion_dict.get(int(index_name)) == None:\n",
    "                    #venue1[venue_name] = 0\n",
    "                    continue\n",
    "                else:\n",
    "                    venue1[venue_name] += citattion_dict[int(index_name)]\n",
    "            if no_of_publ.get(venue_name) == None:\n",
    "                no_of_publ[venue_name] = 1\n",
    "            else:\n",
    "                no_of_publ[venue_name] += 1\n"
   ]
  },
  {
   "cell_type": "code",
   "execution_count": 13,
   "id": "02d8b02d",
   "metadata": {},
   "outputs": [
    {
     "name": "stderr",
     "output_type": "stream",
     "text": [
      "IOPub data rate exceeded.\n",
      "The notebook server will temporarily stop sending output\n",
      "to the client in order to avoid crashing it.\n",
      "To change this limit, set the config variable\n",
      "`--NotebookApp.iopub_data_rate_limit`.\n",
      "\n",
      "Current values:\n",
      "NotebookApp.iopub_data_rate_limit=1000000.0 (bytes/sec)\n",
      "NotebookApp.rate_limit_window=3.0 (secs)\n",
      "\n"
     ]
    },
    {
     "data": {
      "image/png": "[encoded data removed]",
      "text/plain": [
       "<Figure size 432x288 with 1 Axes>"
      ]
     },
     "metadata": {
      "needs_background": "light"
     },
     "output_type": "display_data"
    },
    {
     "name": "stdout",
     "output_type": "stream",
     "text": [
      "Venue with max impact =  Graphics Interface 1990\n",
      "\n"
     ]
    }
   ],
   "source": [
    "\n",
    "impact = {}\n",
    "for i in venue1.keys():\n",
    "    impact[i] = venue1[i]/no_of_publ[i]\n",
    "\n",
    "#print(impact)\n",
    "\n",
    "plt.title('Histogram of Venue Impacts')\n",
    "plt.grid(True)\n",
    "\n",
    "plt.hist(list(impact.values()),bins=50,log=True)\n",
    "plt.show()\n",
    "\n",
    "max_index = list(impact.values()).index(max(list(impact.values())))\n",
    "print(\"Venue with max impact = \" , list(impact.keys())[max_index])\n",
    "\n"
   ]
  },
  {
   "cell_type": "code",
   "execution_count": 15,
   "id": "358076de",
   "metadata": {},
   "outputs": [
    {
     "data": {
      "image/png": "[encoded data removed]",
      "text/plain": [
       "<Figure size 432x288 with 1 Axes>"
      ]
     },
     "metadata": {
      "needs_background": "light"
     },
     "output_type": "display_data"
    }
   ],
   "source": [
    "\n",
    "new_impact = {}\n",
    "for i in venue1.keys():\n",
    "    if no_of_publ[i] >= 10 :\n",
    "        new_impact[i] = venue1[i]/no_of_publ[i]\n",
    "\n",
    "#print(new_impact)\n",
    "\n",
    "plt.title('Histogram of Venue Impacts')\n",
    "plt.grid(True)\n",
    "\n",
    "plt.hist(list(new_impact.values()),bins=50,log=True)\n",
    "plt.show()"
   ]
  },
  {
   "cell_type": "code",
   "execution_count": 16,
   "id": "89730bd5",
   "metadata": {},
   "outputs": [
    {
     "name": "stdout",
     "output_type": "stream",
     "text": [
      "Venue with max impact =  Proceedings of the 19th ACM SIGKDD international conference on Knowledge discovery and data mining\n",
      "\n",
      "citation count  =  3\n",
      "median =  5.0\n"
     ]
    }
   ],
   "source": [
    "\n",
    "max_index = list(new_impact.values()).index(max(list(new_impact.values())))\n",
    "print(\"Venue with max impact = \" , list(new_impact.keys())[max_index])\n",
    "print(\"citation count  = \" ,list(venue1.values())[max_index])\n",
    "temp_pub = sorted(list(venue1.values()))\n",
    "middle = len(temp_pub)//2\n",
    "median = (temp_pub[middle] + temp_pub[~middle]) / 2\n",
    "\n",
    "print(\"median = \", median )\n"
   ]
  },
  {
   "cell_type": "code",
   "execution_count": 17,
   "id": "bf7bdeeb",
   "metadata": {},
   "outputs": [
    {
     "name": "stdout",
     "output_type": "stream",
     "text": [
      "ok\n"
     ]
    }
   ],
   "source": [
    "\n",
    "year_dict = {}\n",
    "\n",
    "with open(\"/Users/rohitnair/Downloads/acm.txt\",'r', newline='', encoding=\"utf8\") as acm:\n",
    "    for row in acm:\n",
    "        if row.startswith('#t'):\n",
    "            year = int(row[2:])\n",
    "        if row.startswith('#c'):\n",
    "            year_dict.setdefault(year, []).append(row[2:])\n",
    "print(\"ok\")\n",
    "list.sort(p2)\n",
    "total_cit_in_each_year = {}\n",
    "total_ref_in_each_year = {}"
   ]
  },
  {
   "cell_type": "code",
   "execution_count": 20,
   "id": "0cf3dc9e",
   "metadata": {},
   "outputs": [
    {
     "name": "stdout",
     "output_type": "stream",
     "text": [
      "1007495\n"
     ]
    }
   ],
   "source": [
    "with open(\"/Users/rohitnair/Downloads/acm.txt\",'r', newline='', encoding=\"utf8\") as acm:\n",
    "    for row in acm:\n",
    "        if row.startswith('#t'):\n",
    "            year2 = int(row[2:])\n",
    "        if row.startswith('#index'):\n",
    "            if total_ref_in_each_year.get(year2) == None:\n",
    "                total_ref_in_each_year[year2] = 1\n",
    "            else:\n",
    "                total_ref_in_each_year[year2] += 1\n",
    "            #print(total_ref_in_each_year[year2])\n",
    "            if total_cit_in_each_year.get(year2) == None:\n",
    "                if citattion_dict.get(int(row[6:])) != None:\n",
    "                    total_cit_in_each_year[year2] = citattion_dict[int(row[6:])]\n",
    "            else:\n",
    "                if citattion_dict.get(int(row[6:])) != None:\n",
    "                    total_cit_in_each_year[year2] += citattion_dict[int(row[6:])]\n",
    "\n",
    "print(len(p2))\n",
    "#print(total_cit_in_each_year)\n",
    "#print(total_ref_in_each_year)\n",
    "\n",
    "myKeysq = list(total_ref_in_each_year.keys())\n",
    "myKeysq.sort()\n",
    "sorted_dict = {i: total_ref_in_each_year[i] for i in myKeysq}\n",
    "\n",
    "myKeysw = list(total_cit_in_each_year.keys())\n",
    "myKeysw.sort()\n",
    "sorted_dict2 = {i: total_cit_in_each_year[i] for i in myKeysw}\n"
   ]
  },
  {
   "cell_type": "code",
   "execution_count": 21,
   "id": "4a4e57fa",
   "metadata": {},
   "outputs": [
    {
     "name": "stdout",
     "output_type": "stream",
     "text": [
      "[1936, 1941, 1947, 1949, 1950]\n",
      "73\n",
      "68\n"
     ]
    },
    {
     "data": {
      "image/png": "[encoded data removed]",
      "text/plain": [
       "<Figure size 432x288 with 1 Axes>"
      ]
     },
     "metadata": {
      "needs_background": "light"
     },
     "output_type": "display_data"
    }
   ],
   "source": [
    "\n",
    "temp = []\n",
    "for i in sorted_dict.keys():\n",
    "    if sorted_dict2.get(i) == None:\n",
    "        temp.append(i)\n",
    "\n",
    "print(temp)\n",
    "for i in temp:\n",
    "    del sorted_dict[i]\n",
    "\n",
    "for i in temp:\n",
    "    del total_ref_in_each_year[i]\n",
    "\n",
    "x = list(total_ref_in_each_year.keys())\n",
    "y1 = list(total_ref_in_each_year[year]/len(year_dict[year]) for year in sorted_dict.keys() )\n",
    "y2 = list(total_cit_in_each_year[year]/len(year_dict[year]) for year in sorted_dict2.keys() )\n",
    "\n",
    "#print(y1)\n",
    "#print(y2)\n",
    "\n",
    "print(len(myKeysq))\n",
    "print(len(myKeysw))\n",
    "\n",
    "\n",
    "import matplotlib.pyplot as plt\n",
    "\n",
    "fig, ax = plt.subplots()\n",
    "ax.plot(x, y2, 'g.', label='Avg no. of citations')\n",
    "ax.plot(x, y1, 'b.', label='Avg no. of references')\n",
    "\n",
    "legend = ax.legend(loc='upper right')\n",
    "\n",
    "plt.show()\n"
   ]
  }
 ],
 "metadata": {
  "kernelspec": {
   "display_name": "Python 3 (ipykernel)",
   "language": "python",
   "name": "python3"
  },
  "language_info": {
   "codemirror_mode": {
    "name": "ipython",
    "version": 3
   },
   "file_extension": ".py",
   "mimetype": "text/x-python",
   "name": "python",
   "nbconvert_exporter": "python",
   "pygments_lexer": "ipython3",
   "version": "3.9.12"
  }
 },
 "nbformat": 4,
 "nbformat_minor": 5
}
